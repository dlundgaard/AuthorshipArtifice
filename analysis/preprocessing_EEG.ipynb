{
 "cells": [
  {
   "cell_type": "code",
   "execution_count": 1,
   "metadata": {},
   "outputs": [],
   "source": [
    "%matplotlib inline"
   ]
  },
  {
   "cell_type": "code",
   "execution_count": 2,
   "metadata": {},
   "outputs": [
    {
     "name": "stdout",
     "output_type": "stream",
     "text": [
      "Using matplotlib as 2D backend.\n"
     ]
    }
   ],
   "source": [
    "import mne\n",
    "import pathlib\n",
    "import numpy as np\n",
    "from matplotlib import pyplot as plt, ticker\n",
    "\n",
    "plt.style.use(\"minimal.mplstyle\")\n",
    "mne.viz.set_browser_backend(\"matplotlib\")"
   ]
  },
  {
   "cell_type": "code",
   "execution_count": 3,
   "metadata": {},
   "outputs": [],
   "source": [
    "RAW_DATA_PATH = pathlib.Path(\"../data/EEG\")\n",
    "\n",
    "SESSION = \"group13_a\"\n",
    "\n",
    "VISUAL_INSPECTION = False"
   ]
  },
  {
   "cell_type": "code",
   "execution_count": 4,
   "metadata": {},
   "outputs": [
    {
     "name": "stderr",
     "output_type": "stream",
     "text": [
      "/tmp/ipykernel_2448/1274395445.py:1: RuntimeWarning: Channels contain different highpass filters. Lowest (weakest) filter setting (0.00 Hz) will be stored.\n",
      "  raw = mne.io.read_raw_brainvision(\n"
     ]
    },
    {
     "data": {
      "text/html": [
       "<details open>\n",
       "    <summary><strong>General</strong></summary>\n",
       "    <table class=\"table table-hover table-striped table-sm table-responsive small\">\n",
       "        <tr>\n",
       "            <th>Measurement date</th>\n",
       "            \n",
       "            <td>February 28, 2024  14:02:50 GMT</td>\n",
       "            \n",
       "        </tr>\n",
       "        <tr>\n",
       "            <th>Experimenter</th>\n",
       "            \n",
       "            <td>Unknown</td>\n",
       "            \n",
       "        </tr>\n",
       "        <tr>\n",
       "            <th>Participant</th>\n",
       "            \n",
       "            <td>Unknown</td>\n",
       "            \n",
       "        </tr>\n",
       "    </table>\n",
       "    </details>\n",
       "    <details open>\n",
       "        <summary><strong>Channels</strong></summary>\n",
       "        <table class=\"table table-hover table-striped table-sm table-responsive small\">\n",
       "            <tr>\n",
       "                <th>Digitized points</th>\n",
       "                \n",
       "                <td>Not available</td>\n",
       "                \n",
       "            </tr>\n",
       "            <tr>\n",
       "                <th>Good channels</th>\n",
       "                <td>30 EEG, 2 EOG, 1 misc</td>\n",
       "            </tr>\n",
       "            <tr>\n",
       "                <th>Bad channels</th>\n",
       "                <td>None</td>\n",
       "            </tr>\n",
       "            <tr>\n",
       "                <th>EOG channels</th>\n",
       "                <td>HEOG, VEOG</td>\n",
       "            </tr>\n",
       "            <tr>\n",
       "                <th>ECG channels</th>\n",
       "                <td>Not available</td>\n",
       "            </tr>\n",
       "        </table>\n",
       "        </details>\n",
       "        <details open>\n",
       "            <summary><strong>Data</strong></summary>\n",
       "            <table class=\"table table-hover table-striped table-sm table-responsive small\">\n",
       "                \n",
       "                <tr>\n",
       "                    <th>Sampling frequency</th>\n",
       "                    <td>1000.00 Hz</td>\n",
       "                </tr>\n",
       "                \n",
       "                \n",
       "                <tr>\n",
       "                    <th>Highpass</th>\n",
       "                    <td>0.00 Hz</td>\n",
       "                </tr>\n",
       "                \n",
       "                \n",
       "                <tr>\n",
       "                    <th>Lowpass</th>\n",
       "                    <td>1000.00 Hz</td>\n",
       "                </tr>\n",
       "                \n",
       "                \n",
       "                \n",
       "                \n",
       "            </table>\n",
       "            </details>"
      ],
      "text/plain": [
       "<Info | 7 non-empty values\n",
       " bads: []\n",
       " ch_names: Fp1, Fp2, F7, F3, Fz, F4, F8, FC5, FC1, FC2, FC6, T7, C3, Cz, ...\n",
       " chs: 30 EEG, 2 EOG, 1 misc\n",
       " custom_ref_applied: False\n",
       " highpass: 0.0 Hz\n",
       " lowpass: 1000.0 Hz\n",
       " meas_date: 2024-02-28 14:02:50 UTC\n",
       " nchan: 33\n",
       " projs: []\n",
       " sfreq: 1000.0 Hz\n",
       ">"
      ]
     },
     "execution_count": 4,
     "metadata": {},
     "output_type": "execute_result"
    }
   ],
   "source": [
    "raw = mne.io.read_raw_brainvision(\n",
    "    vhdr_fname = RAW_DATA_PATH.joinpath(SESSION + \".vhdr\"),\n",
    "    eog = (\"HEOG\", \"VEOG\"),\n",
    "    misc = (\"41\",),\n",
    "    preload = True,\n",
    "    verbose = False\n",
    ")\n",
    "\n",
    "raw.info"
   ]
  },
  {
   "cell_type": "code",
   "execution_count": 5,
   "metadata": {},
   "outputs": [],
   "source": [
    "if SESSION == \"group13_c\":\n",
    "    raw.crop(tmin = 1915, tmax = 2300)"
   ]
  },
  {
   "cell_type": "code",
   "execution_count": 6,
   "metadata": {},
   "outputs": [
    {
     "data": {
      "image/png": "[encoded data removed]",
      "text/plain": [
       "<Figure size 675x675 with 1 Axes>"
      ]
     },
     "metadata": {},
     "output_type": "display_data"
    }
   ],
   "source": [
    "raw.set_montage(\n",
    "    mne.channels.make_standard_montage(\"standard_1020\"), \n",
    "    verbose=False\n",
    ")\n",
    "ax = raw.plot_sensors(\n",
    "    show_names = True,\n",
    "    sphere=(0, 0.02, 0, 0.1),\n",
    "    show = False\n",
    ").axes[0];\n",
    "ax.set_title(\"Sensor Positions\")\n",
    "plt.sca(ax)\n",
    "plt.show()"
   ]
  },
  {
   "cell_type": "code",
   "execution_count": 7,
   "metadata": {},
   "outputs": [],
   "source": [
    "PLOT_SETTINGS = dict(\n",
    "    n_channels=len(raw.ch_names),\n",
    "    scalings=dict(\n",
    "        eeg = 5e-5,\n",
    "        misc = 2\n",
    "    ),\n",
    "    show = False,\n",
    ")"
   ]
  },
  {
   "cell_type": "code",
   "execution_count": 8,
   "metadata": {},
   "outputs": [],
   "source": [
    "if VISUAL_INSPECTION:\n",
    "    fig = raw.compute_psd(\n",
    "        fmax=60,\n",
    "        remove_dc=False,\n",
    "    ).plot()\n",
    "    fig.axes[0].xaxis.set_major_locator(ticker.MultipleLocator(5))\n",
    "    fig.axes[0].xaxis.set_minor_locator(ticker.MultipleLocator(1))"
   ]
  },
  {
   "cell_type": "code",
   "execution_count": 9,
   "metadata": {},
   "outputs": [],
   "source": [
    "preview_segmentation = dict(\n",
    "    begin = 90,\n",
    "    end = 120\n",
    ")\n",
    "\n",
    "raw_preview_segment = raw.copy().crop(\n",
    "    tmin = preview_segmentation[\"begin\"],\n",
    "    tmax = preview_segmentation[\"end\"],\n",
    ")"
   ]
  },
  {
   "cell_type": "code",
   "execution_count": 10,
   "metadata": {},
   "outputs": [
    {
     "name": "stdout",
     "output_type": "stream",
     "text": [
      "Filtering raw data in 1 contiguous segment\n",
      "Setting up band-pass filter from 0.5 - 40 Hz\n",
      "\n",
      "FIR filter parameters\n",
      "---------------------\n",
      "Designing a one-pass, zero-phase, non-causal bandpass filter:\n",
      "- Windowed time-domain design (firwin) method\n",
      "- Hamming window with 0.0194 passband ripple and 53 dB stopband attenuation\n",
      "- Lower passband edge: 0.50\n",
      "- Lower transition bandwidth: 0.50 Hz (-6 dB cutoff frequency: 0.25 Hz)\n",
      "- Upper passband edge: 40.00 Hz\n",
      "- Upper transition bandwidth: 10.00 Hz (-6 dB cutoff frequency: 45.00 Hz)\n",
      "- Filter length: 6601 samples (6.601 s)\n",
      "\n"
     ]
    },
    {
     "name": "stderr",
     "output_type": "stream",
     "text": [
      "[Parallel(n_jobs=4)]: Using backend LokyBackend with 4 concurrent workers.\n",
      "[Parallel(n_jobs=4)]: Done  14 tasks      | elapsed:    1.4s\n",
      "[Parallel(n_jobs=4)]: Done  27 out of  30 | elapsed:    1.7s remaining:    0.2s\n",
      "[Parallel(n_jobs=4)]: Done  30 out of  30 | elapsed:    1.7s finished\n"
     ]
    }
   ],
   "source": [
    "raw_filtered = raw.copy()\n",
    "\n",
    "raw_filtered.filter(\n",
    "    l_freq = 0.5, # pass everything over _ Hz\n",
    "    h_freq = 40, # pass everything below _ Hz\n",
    "    n_jobs = 4,\n",
    ")\n",
    "\n",
    "excluded_channels = {\n",
    "    \"group13_a\": [\n",
    "        \"TP10\"\n",
    "    ],\n",
    "    \"group13_b\": [\n",
    "\n",
    "    ],\n",
    "    \"group13_c\": [\n",
    "        \"FC1\",\n",
    "        \"FC5\",\n",
    "        \"CP2\",\n",
    "        \"P3\",\n",
    "        \"Pz\",\n",
    "    ],\n",
    "}[SESSION]\n",
    "\n",
    "raw_filtered.info[\"bads\"] = excluded_channels\n",
    "\n",
    "raw_filtered.pick(\n",
    "    picks=raw.ch_names, \n",
    "    exclude=\"bads\"\n",
    ")\n",
    "\n",
    "if VISUAL_INSPECTION:\n",
    "    fig = raw_filtered.plot(\n",
    "        start = preview_segmentation[\"begin\"],\n",
    "        duration = preview_segmentation[\"end\"] - preview_segmentation[\"begin\"],\n",
    "        **PLOT_SETTINGS\n",
    "    )\n",
    "    fig.axes[0].xaxis.set_major_locator(ticker.MultipleLocator(5))\n",
    "    fig.axes[0].xaxis.set_minor_locator(ticker.MultipleLocator(1))\n",
    "    fig.set_size_inches(12, 10)\n",
    "    plt.show()"
   ]
  },
  {
   "cell_type": "code",
   "execution_count": 11,
   "metadata": {},
   "outputs": [],
   "source": [
    "if VISUAL_INSPECTION:\n",
    "    eog_epochs = mne.preprocessing.create_eog_epochs(\n",
    "        raw, \n",
    "        h_freq = 2,\n",
    "        baseline=(-0.3, -0.1)\n",
    "    )\n",
    "    eog_epochs.average().plot_joint(title = \"Electrooculography\");"
   ]
  },
  {
   "cell_type": "code",
   "execution_count": 12,
   "metadata": {},
   "outputs": [
    {
     "name": "stdout",
     "output_type": "stream",
     "text": [
      "Fitting ICA to data using 29 channels (please be patient, this may take a while)\n",
      "Selecting by explained variance: 7 components\n",
      "Fitting ICA took 6.0s.\n"
     ]
    }
   ],
   "source": [
    "ica = mne.preprocessing.ICA(n_components=0.95, random_state=0, max_iter=500)\n",
    "ica.fit(raw_filtered)\n",
    "\n",
    "if VISUAL_INSPECTION:\n",
    "    ica.plot_components();\n",
    "    fig = ica.plot_sources(\n",
    "        raw_filtered,\n",
    "        start = preview_segmentation[\"begin\"],\n",
    "        stop = preview_segmentation[\"end\"],\n",
    "        show = False,\n",
    "    )\n",
    "    fig.axes[0].xaxis.set_major_locator(ticker.MultipleLocator(5))\n",
    "    fig.axes[0].xaxis.set_minor_locator(ticker.MultipleLocator(1))\n",
    "    fig.set_size_inches(12, 10)\n",
    "    plt.show()"
   ]
  },
  {
   "cell_type": "code",
   "execution_count": 13,
   "metadata": {},
   "outputs": [],
   "source": [
    "eog_indices, eog_scores = ica.find_bads_eog(\n",
    "    raw_filtered, \n",
    "    measure = \"correlation\", \n",
    "    threshold = 2/3,\n",
    "    verbose = False,\n",
    ")\n",
    "\n",
    "# override artifact components for participant where EOG was unavailable\n",
    "if SESSION == \"group13_c\": \n",
    "    eog_indices = [3]\n",
    "\n",
    "if VISUAL_INSPECTION:\n",
    "    ica.plot_scores(eog_scores, exclude = eog_indices)\n",
    "\n",
    "    fig = ica.plot_overlay(\n",
    "        raw_filtered, \n",
    "        exclude = eog_indices,\n",
    "        start = preview_segmentation[\"begin\"] * 1000,\n",
    "        stop = preview_segmentation[\"end\"] * 1000,\n",
    "    )\n",
    "    fig.axes[2].xaxis.set_major_locator(ticker.MultipleLocator(5))\n",
    "    fig.axes[2].xaxis.set_minor_locator(ticker.MultipleLocator(1))\n",
    "    fig.show()"
   ]
  },
  {
   "cell_type": "code",
   "execution_count": 14,
   "metadata": {},
   "outputs": [
    {
     "name": "stdout",
     "output_type": "stream",
     "text": [
      "Applying ICA to Raw instance\n",
      "    Transforming to ICA space (7 components)\n",
      "    Zeroing out 0 ICA components\n",
      "    Projecting back using 29 PCA components\n"
     ]
    }
   ],
   "source": [
    "raw_processed = ica.apply(raw_filtered)"
   ]
  },
  {
   "cell_type": "code",
   "execution_count": 15,
   "metadata": {},
   "outputs": [
    {
     "name": "stdout",
     "output_type": "stream",
     "text": [
      "Setting channel interpolation method to {'eeg': 'spline'}.\n",
      "Interpolating bad channels.\n",
      "    Automatic origin fit: head of radius 96.1 mm\n",
      "Computing interpolation matrix from 29 sensor positions\n",
      "Interpolating 1 sensors\n"
     ]
    },
    {
     "data": {
      "text/html": [
       "<details open>\n",
       "    <summary><strong>General</strong></summary>\n",
       "    <table class=\"table table-hover table-striped table-sm table-responsive small\">\n",
       "        <tr>\n",
       "            <th>Measurement date</th>\n",
       "            \n",
       "            <td>February 28, 2024  14:02:50 GMT</td>\n",
       "            \n",
       "        </tr>\n",
       "        <tr>\n",
       "            <th>Experimenter</th>\n",
       "            \n",
       "            <td>Unknown</td>\n",
       "            \n",
       "        </tr>\n",
       "        <tr>\n",
       "            <th>Participant</th>\n",
       "            \n",
       "            <td>Unknown</td>\n",
       "            \n",
       "        </tr>\n",
       "    </table>\n",
       "    </details>\n",
       "    <details open>\n",
       "        <summary><strong>Channels</strong></summary>\n",
       "        <table class=\"table table-hover table-striped table-sm table-responsive small\">\n",
       "            <tr>\n",
       "                <th>Digitized points</th>\n",
       "                \n",
       "                <td>33 points</td>\n",
       "                \n",
       "            </tr>\n",
       "            <tr>\n",
       "                <th>Good channels</th>\n",
       "                <td>30 EEG</td>\n",
       "            </tr>\n",
       "            <tr>\n",
       "                <th>Bad channels</th>\n",
       "                <td>None</td>\n",
       "            </tr>\n",
       "            <tr>\n",
       "                <th>EOG channels</th>\n",
       "                <td>Not available</td>\n",
       "            </tr>\n",
       "            <tr>\n",
       "                <th>ECG channels</th>\n",
       "                <td>Not available</td>\n",
       "            </tr>\n",
       "        </table>\n",
       "        </details>\n",
       "        <details open>\n",
       "            <summary><strong>Data</strong></summary>\n",
       "            <table class=\"table table-hover table-striped table-sm table-responsive small\">\n",
       "                \n",
       "                <tr>\n",
       "                    <th>Sampling frequency</th>\n",
       "                    <td>1000.00 Hz</td>\n",
       "                </tr>\n",
       "                \n",
       "                \n",
       "                <tr>\n",
       "                    <th>Highpass</th>\n",
       "                    <td>0.50 Hz</td>\n",
       "                </tr>\n",
       "                \n",
       "                \n",
       "                <tr>\n",
       "                    <th>Lowpass</th>\n",
       "                    <td>40.00 Hz</td>\n",
       "                </tr>\n",
       "                \n",
       "                \n",
       "                \n",
       "                <tr>\n",
       "                    <th>Filenames</th>\n",
       "                    <td>group13_a.eeg</td>\n",
       "                </tr>\n",
       "                \n",
       "                \n",
       "                <tr>\n",
       "                    <th>Duration</th>\n",
       "                    <td>00:15:05 (HH:MM:SS)</td>\n",
       "                </tr>\n",
       "                \n",
       "            </table>\n",
       "            </details>"
      ],
      "text/plain": [
       "<RawBrainVision | group13_a.eeg, 30 x 904900 (904.9 s), ~207.2 MB, data loaded>"
      ]
     },
     "execution_count": 15,
     "metadata": {},
     "output_type": "execute_result"
    }
   ],
   "source": [
    "raw_processed.interpolate_bads(mode = \"accurate\").pick(\"eeg\")"
   ]
  },
  {
   "cell_type": "code",
   "execution_count": 16,
   "metadata": {},
   "outputs": [
    {
     "data": {
      "text/html": [
       "<details open>\n",
       "    <summary><strong>General</strong></summary>\n",
       "    <table class=\"table table-hover table-striped table-sm table-responsive small\">\n",
       "        <tr>\n",
       "            <th>Measurement date</th>\n",
       "            \n",
       "            <td>February 28, 2024  14:02:50 GMT</td>\n",
       "            \n",
       "        </tr>\n",
       "        <tr>\n",
       "            <th>Experimenter</th>\n",
       "            \n",
       "            <td>Unknown</td>\n",
       "            \n",
       "        </tr>\n",
       "        <tr>\n",
       "            <th>Participant</th>\n",
       "            \n",
       "            <td>Unknown</td>\n",
       "            \n",
       "        </tr>\n",
       "    </table>\n",
       "    </details>\n",
       "    <details open>\n",
       "        <summary><strong>Channels</strong></summary>\n",
       "        <table class=\"table table-hover table-striped table-sm table-responsive small\">\n",
       "            <tr>\n",
       "                <th>Digitized points</th>\n",
       "                \n",
       "                <td>33 points</td>\n",
       "                \n",
       "            </tr>\n",
       "            <tr>\n",
       "                <th>Good channels</th>\n",
       "                <td>30 EEG</td>\n",
       "            </tr>\n",
       "            <tr>\n",
       "                <th>Bad channels</th>\n",
       "                <td>None</td>\n",
       "            </tr>\n",
       "            <tr>\n",
       "                <th>EOG channels</th>\n",
       "                <td>Not available</td>\n",
       "            </tr>\n",
       "            <tr>\n",
       "                <th>ECG channels</th>\n",
       "                <td>Not available</td>\n",
       "            </tr>\n",
       "        </table>\n",
       "        </details>\n",
       "        <details open>\n",
       "            <summary><strong>Data</strong></summary>\n",
       "            <table class=\"table table-hover table-striped table-sm table-responsive small\">\n",
       "                \n",
       "                <tr>\n",
       "                    <th>Sampling frequency</th>\n",
       "                    <td>1000.00 Hz</td>\n",
       "                </tr>\n",
       "                \n",
       "                \n",
       "                <tr>\n",
       "                    <th>Highpass</th>\n",
       "                    <td>0.50 Hz</td>\n",
       "                </tr>\n",
       "                \n",
       "                \n",
       "                <tr>\n",
       "                    <th>Lowpass</th>\n",
       "                    <td>40.00 Hz</td>\n",
       "                </tr>\n",
       "                \n",
       "                \n",
       "                \n",
       "                <tr>\n",
       "                    <th>Filenames</th>\n",
       "                    <td>group13_a.eeg</td>\n",
       "                </tr>\n",
       "                \n",
       "                \n",
       "                <tr>\n",
       "                    <th>Duration</th>\n",
       "                    <td>00:15:05 (HH:MM:SS)</td>\n",
       "                </tr>\n",
       "                \n",
       "            </table>\n",
       "            </details>"
      ],
      "text/plain": [
       "<RawBrainVision | group13_a.eeg, 30 x 904900 (904.9 s), ~207.2 MB, data loaded>"
      ]
     },
     "execution_count": 16,
     "metadata": {},
     "output_type": "execute_result"
    }
   ],
   "source": [
    "raw_processed.set_eeg_reference(\n",
    "    ref_channels = \"average\", \n",
    "    projection = False, \n",
    "    verbose = False\n",
    ")"
   ]
  },
  {
   "cell_type": "code",
   "execution_count": 17,
   "metadata": {},
   "outputs": [
    {
     "name": "stdout",
     "output_type": "stream",
     "text": [
      "Used Annotations descriptions: ['New Segment/', 'Stimulus/S  1', 'Stimulus/S 11', 'Stimulus/S 12', 'Stimulus/S 13', 'Stimulus/S 14']\n"
     ]
    }
   ],
   "source": [
    "import sys\n",
    "sys.path.append(\"..\")\n",
    "from constants import EEG_EVENT_ENCODINGS\n",
    "\n",
    "events, event_ids = mne.events_from_annotations(raw)\n",
    "\n",
    "if VISUAL_INSPECTION:\n",
    "    fig = mne.viz.plot_events(\n",
    "        events, \n",
    "        event_id = EEG_EVENT_ENCODINGS,\n",
    "        color = dict(),\n",
    "        on_missing = \"ignore\",\n",
    "        show = False,\n",
    "        verbose = \"ERROR\"\n",
    "    )\n",
    "    fig.set_size_inches(9, 3)\n",
    "    ax = fig.axes[0]\n",
    "    for line in ax.get_lines():\n",
    "        line.set_marker(\"|\")\n",
    "        line.set_markersize(4)\n",
    "\n",
    "    ax.get_legend().remove()\n",
    "    ax.set_yticklabels([f\"{key}\\n{(events[:,2] == code).sum()} instances\" for key, code in EEG_EVENT_ENCODINGS.items()])\n",
    "    plt.tick_params(\n",
    "        axis=\"y\", \n",
    "        which=\"both\", \n",
    "        labelleft = False, \n",
    "        labelright = True,\n",
    "        length = 0,\n",
    "        pad = 15\n",
    "    )\n",
    "    ax.set_ylabel(\"\")\n",
    "    ax.spines[\"left\"].set_visible(False)\n",
    "    ax.set_title(\"Event Markers\")\n",
    "    plt.show()"
   ]
  },
  {
   "cell_type": "code",
   "execution_count": 18,
   "metadata": {},
   "outputs": [
    {
     "data": {
      "text/html": [
       "<details open>\n",
       "    <summary><strong>General</strong></summary>\n",
       "    <table class=\"table table-hover table-striped table-sm table-responsive small\">\n",
       "        <tr>\n",
       "            <th>Measurement date</th>\n",
       "            \n",
       "            <td>February 28, 2024  14:02:50 GMT</td>\n",
       "            \n",
       "        </tr>\n",
       "        <tr>\n",
       "            <th>Experimenter</th>\n",
       "            \n",
       "            <td>Unknown</td>\n",
       "            \n",
       "        </tr>\n",
       "        <tr>\n",
       "            <th>Participant</th>\n",
       "            \n",
       "            <td>Unknown</td>\n",
       "            \n",
       "        </tr>\n",
       "    </table>\n",
       "    </details>\n",
       "    <details open>\n",
       "        <summary><strong>Channels</strong></summary>\n",
       "        <table class=\"table table-hover table-striped table-sm table-responsive small\">\n",
       "            <tr>\n",
       "                <th>Digitized points</th>\n",
       "                \n",
       "                <td>33 points</td>\n",
       "                \n",
       "            </tr>\n",
       "            <tr>\n",
       "                <th>Good channels</th>\n",
       "                <td>30 EEG</td>\n",
       "            </tr>\n",
       "            <tr>\n",
       "                <th>Bad channels</th>\n",
       "                <td>None</td>\n",
       "            </tr>\n",
       "            <tr>\n",
       "                <th>EOG channels</th>\n",
       "                <td>Not available</td>\n",
       "            </tr>\n",
       "            <tr>\n",
       "                <th>ECG channels</th>\n",
       "                <td>Not available</td>\n",
       "            </tr>\n",
       "        </table>\n",
       "        </details>\n",
       "        <details open>\n",
       "            <summary><strong>Data</strong></summary>\n",
       "            <table class=\"table table-hover table-striped table-sm table-responsive small\">\n",
       "                \n",
       "                <tr>\n",
       "                    <th>Sampling frequency</th>\n",
       "                    <td>1000.00 Hz</td>\n",
       "                </tr>\n",
       "                \n",
       "                \n",
       "                <tr>\n",
       "                    <th>Highpass</th>\n",
       "                    <td>0.50 Hz</td>\n",
       "                </tr>\n",
       "                \n",
       "                \n",
       "                <tr>\n",
       "                    <th>Lowpass</th>\n",
       "                    <td>40.00 Hz</td>\n",
       "                </tr>\n",
       "                \n",
       "                \n",
       "                \n",
       "                \n",
       "            </table>\n",
       "            </details>"
      ],
      "text/plain": [
       "<Info | 9 non-empty values\n",
       " bads: []\n",
       " ch_names: Fp1, Fp2, F7, F3, Fz, F4, F8, FC5, FC1, FC2, FC6, T7, C3, Cz, ...\n",
       " chs: 30 EEG\n",
       " custom_ref_applied: True\n",
       " dig: 33 items (3 Cardinal, 30 EEG)\n",
       " highpass: 0.5 Hz\n",
       " lowpass: 40.0 Hz\n",
       " meas_date: 2024-02-28 14:02:50 UTC\n",
       " nchan: 30\n",
       " projs: []\n",
       " sfreq: 1000.0 Hz\n",
       ">"
      ]
     },
     "execution_count": 18,
     "metadata": {},
     "output_type": "execute_result"
    }
   ],
   "source": [
    "epochs = mne.Epochs(\n",
    "    raw_processed, \n",
    "    events,\n",
    "    event_id = EEG_EVENT_ENCODINGS, \n",
    "    picks = \"eeg\",\n",
    "    reject = dict(eeg = 150e-6), \n",
    "    tmin = -0.2, \n",
    "    tmax = 0.8,\n",
    "    baseline = (-0.2, 0),\n",
    "    preload = True,\n",
    "    verbose = False\n",
    ")\n",
    "epochs.info"
   ]
  },
  {
   "cell_type": "code",
   "execution_count": 19,
   "metadata": {},
   "outputs": [
    {
     "name": "stdout",
     "output_type": "stream",
     "text": [
      "8.8% of epochs were dropped\n"
     ]
    }
   ],
   "source": [
    "print(f\"{len([ep for ep in epochs.drop_log if len(ep)]) / len(events):.1%} of epochs were dropped\")"
   ]
  },
  {
   "cell_type": "code",
   "execution_count": 20,
   "metadata": {},
   "outputs": [],
   "source": [
    "def get_response_times(conditions):\n",
    "    event_codes = [EEG_EVENT_ENCODINGS[\"trial/\" + event] for event in conditions]\n",
    "    trials = np.where(np.isin(events[:,2], event_codes))[0]\n",
    "    response_times = events[trials + 1][:-1,0] - events[trials][:-1,0]\n",
    "    response_times = np.append(response_times, np.median(response_times))\n",
    "    return sorted(np.divide(response_times, 1000))\n",
    "\n",
    "def plot_sanity_check(name, conditions, sensors):\n",
    "    epochs[conditions].plot_image(\n",
    "        picks = sensors,\n",
    "        title = f\"\"\"{name} ({\", \".join(sensors)})\\nConditional on Response Time\"\"\",\n",
    "        overlay_times = get_response_times(conditions = conditions),\n",
    "    )[0];\n",
    "\n",
    "# if VISUAL_INSPECTION:\n",
    "#     plot_sanity_check(\n",
    "#         name = \"Positive Feedback\",\n",
    "#         conditions = [\"correct\", \"error rectified\"], \n",
    "#         sensors = [\"O2\"]\n",
    "#     )\n",
    "\n",
    "#     plot_sanity_check(\n",
    "#         name = \"Negative Feedback\",\n",
    "#         conditions = [\"incorrect\", \"error inserted\"], \n",
    "#         sensors = [\"O2\"]\n",
    "#     )\n",
    "\n",
    "#     plot_sanity_check(\n",
    "#         name = \"Negative Feedback\",\n",
    "#         conditions = [\"incorrect\", \"error inserted\"], \n",
    "#         sensors = [\"T7\"]\n",
    "#     )\n",
    "\n",
    "#     plot_sanity_check(\n",
    "#         name = \"Inserted Errors\",\n",
    "#         conditions = [\"error inserted\"], \n",
    "#         sensors = [\"Cz\"]\n",
    "#     )"
   ]
  },
  {
   "cell_type": "code",
   "execution_count": 21,
   "metadata": {},
   "outputs": [],
   "source": [
    "if VISUAL_INSPECTION:\n",
    "    epochs.average(picks = \"eeg\").plot_joint();"
   ]
  },
  {
   "cell_type": "code",
   "execution_count": 22,
   "metadata": {},
   "outputs": [
    {
     "name": "stdout",
     "output_type": "stream",
     "text": [
      "Overwriting existing file.\n",
      "Overwriting existing file.\n",
      "[INFO] Exported epochs to ../data/EEG/group13_a-epo.fif\n"
     ]
    }
   ],
   "source": [
    "export_path = RAW_DATA_PATH.joinpath(SESSION + \"-epo.fif\")\n",
    "\n",
    "epochs.pick(\"eeg\").save(export_path, overwrite = True)\n",
    "print(f\"[INFO] Exported epochs to {export_path}\")"
   ]
  },
  {
   "cell_type": "code",
   "execution_count": 23,
   "metadata": {},
   "outputs": [
    {
     "name": "stdout",
     "output_type": "stream",
     "text": [
      "Setting up low-pass filter at 30 Hz\n",
      "\n",
      "FIR filter parameters\n",
      "---------------------\n",
      "Designing a one-pass, zero-phase, non-causal lowpass filter:\n",
      "- Windowed time-domain design (firwin) method\n",
      "- Hamming window with 0.0194 passband ripple and 53 dB stopband attenuation\n",
      "- Upper passband edge: 30.00 Hz\n",
      "- Upper transition bandwidth: 7.50 Hz (-6 dB cutoff frequency: 33.75 Hz)\n",
      "- Filter length: 441 samples (0.441 s)\n",
      "\n"
     ]
    },
    {
     "name": "stderr",
     "output_type": "stream",
     "text": [
      "[Parallel(n_jobs=4)]: Using backend LokyBackend with 4 concurrent workers.\n",
      "[Parallel(n_jobs=4)]: Done  44 tasks      | elapsed:    0.0s\n",
      "[Parallel(n_jobs=4)]: Done 32764 tasks      | elapsed:    3.4s\n",
      "[Parallel(n_jobs=4)]: Done 124924 tasks      | elapsed:   12.0s\n",
      "[Parallel(n_jobs=4)]: Done 253948 tasks      | elapsed:   24.0s\n",
      "[Parallel(n_jobs=4)]: Done 300750 out of 300750 | elapsed:   28.3s finished\n"
     ]
    },
    {
     "name": "stdout",
     "output_type": "stream",
     "text": [
      "Overwriting existing file.\n",
      "Overwriting existing file.\n"
     ]
    }
   ],
   "source": [
    "epochs.filter(l_freq = None, h_freq = 30, n_jobs = 4).pick(\"eeg\").save(RAW_DATA_PATH.joinpath(SESSION + \"_LPF_smoothed\" + \"-epo.fif\"), overwrite = True)"
   ]
  }
 ],
 "metadata": {
  "kernelspec": {
   "display_name": "env",
   "language": "python",
   "name": "python3"
  },
  "language_info": {
   "codemirror_mode": {
    "name": "ipython",
    "version": 3
   },
   "file_extension": ".py",
   "mimetype": "text/x-python",
   "name": "python",
   "nbconvert_exporter": "python",
   "pygments_lexer": "ipython3",
   "version": "3.10.12"
  }
 },
 "nbformat": 4,
 "nbformat_minor": 2
}
